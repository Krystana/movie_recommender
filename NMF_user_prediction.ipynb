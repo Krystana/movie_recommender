{
 "cells": [
  {
   "cell_type": "markdown",
   "metadata": {},
   "source": [
    "### Non-negative matrix factorization of movie recommendations from movielens dataset"
   ]
  },
  {
   "cell_type": "code",
   "execution_count": null,
   "metadata": {},
   "outputs": [],
   "source": [
    "# import libraries\n",
    "from sqlalchemy import create_engine\n",
    "from sklearn.decomposition import NMF\n",
    "\n",
    "import pandas as pd\n",
    "import numpy as np\n",
    "import os\n",
    "from joblib import load, dump\n",
    "#! pip install fuzzywuzzy\n",
    "from fuzzywuzzy import fuzz\n"
   ]
  },
  {
   "cell_type": "markdown",
   "metadata": {},
   "source": [
    "#### connect to Postgres database containing movie lens data:"
   ]
  },
  {
   "cell_type": "code",
   "execution_count": null,
   "metadata": {},
   "outputs": [],
   "source": [
    "HOST = 'localhost'\n",
    "PORT = '5432'\n",
    "DB = 'movieLens'"
   ]
  },
  {
   "cell_type": "code",
   "execution_count": null,
   "metadata": {},
   "outputs": [],
   "source": [
    "conn_string = f'postgres://{HOST}:{PORT}/{DB}' "
   ]
  },
  {
   "cell_type": "code",
   "execution_count": null,
   "metadata": {},
   "outputs": [],
   "source": [
    "engine = create_engine(conn_string)"
   ]
  },
  {
   "cell_type": "markdown",
   "metadata": {},
   "source": [
    "#### postgres tables to dataframes: "
   ]
  },
  {
   "cell_type": "code",
   "execution_count": null,
   "metadata": {},
   "outputs": [],
   "source": [
    "# query ratings table\n",
    "ratings = pd.read_sql_query('SELECT * FROM ratings', con=engine)"
   ]
  },
  {
   "cell_type": "code",
   "execution_count": null,
   "metadata": {},
   "outputs": [],
   "source": [
    "# set index to userid\n",
    "ratings = ratings.set_index('userid')"
   ]
  },
  {
   "cell_type": "code",
   "execution_count": null,
   "metadata": {},
   "outputs": [],
   "source": [
    "# drop time stamps column\n",
    "ratings = ratings.drop('time_stamps', axis=1)"
   ]
  },
  {
   "cell_type": "code",
   "execution_count": null,
   "metadata": {},
   "outputs": [],
   "source": [
    "# query movies table\n",
    "movies = pd.read_sql_query('SELECT * FROM movies', con=engine)"
   ]
  },
  {
   "cell_type": "code",
   "execution_count": null,
   "metadata": {},
   "outputs": [],
   "source": [
    "# check movies df\n",
    "movies"
   ]
  },
  {
   "cell_type": "code",
   "execution_count": null,
   "metadata": {},
   "outputs": [],
   "source": [
    "# check ratings table\n",
    "ratings"
   ]
  },
  {
   "cell_type": "code",
   "execution_count": null,
   "metadata": {},
   "outputs": [],
   "source": [
    "# get ratings df to right shape for matrix multiplication\n",
    "ratings = ratings.pivot_table(index=ratings.index, values='rating', columns='movieid')"
   ]
  },
  {
   "cell_type": "code",
   "execution_count": null,
   "metadata": {},
   "outputs": [],
   "source": [
    "# fill Nan's with mean\n",
    "ratings = ratings.fillna(ratings.mean().round(2)) "
   ]
  },
  {
   "cell_type": "code",
   "execution_count": null,
   "metadata": {
    "scrolled": true
   },
   "outputs": [],
   "source": [
    "# check for Nan's\n",
    "ratings.isna().sum()"
   ]
  },
  {
   "cell_type": "markdown",
   "metadata": {},
   "source": [
    "#### matrix mulitplication:"
   ]
  },
  {
   "cell_type": "code",
   "execution_count": null,
   "metadata": {},
   "outputs": [],
   "source": [
    "# create model and set hyperparameters\n",
    "model = NMF(n_components=20, init='random', random_state=10, max_iter=1000)"
   ]
  },
  {
   "cell_type": "code",
   "execution_count": null,
   "metadata": {},
   "outputs": [],
   "source": [
    "# fit model\n",
    "model.fit(ratings)"
   ]
  },
  {
   "cell_type": "code",
   "execution_count": null,
   "metadata": {},
   "outputs": [],
   "source": [
    "# save model to disk\n",
    "def dump_model(MODEL_fitted):\n",
    "    dump(MODEL_fitted, './NMF.joblib')"
   ]
  },
  {
   "cell_type": "code",
   "execution_count": null,
   "metadata": {},
   "outputs": [],
   "source": [
    "dump_model(model)"
   ]
  },
  {
   "cell_type": "markdown",
   "metadata": {},
   "source": [
    "#### reconstruct matrix: "
   ]
  },
  {
   "cell_type": "code",
   "execution_count": null,
   "metadata": {},
   "outputs": [],
   "source": [
    "# movie-genre matrix\n",
    "Q = model.components_ "
   ]
  },
  {
   "cell_type": "code",
   "execution_count": null,
   "metadata": {},
   "outputs": [],
   "source": [
    "# user-genre matrix\n",
    "P = model.transform(ratings)"
   ]
  },
  {
   "cell_type": "code",
   "execution_count": null,
   "metadata": {},
   "outputs": [],
   "source": [
    "# reconstruction error\n",
    "print(model.reconstruction_err_)"
   ]
  },
  {
   "cell_type": "code",
   "execution_count": null,
   "metadata": {},
   "outputs": [],
   "source": [
    "# reconstructed matrix\n",
    "nR = np.dot(P, Q)\n",
    "print(nR) "
   ]
  },
  {
   "cell_type": "markdown",
   "metadata": {},
   "source": [
    "#### movie recommendation from user input: "
   ]
  },
  {
   "cell_type": "code",
   "execution_count": null,
   "metadata": {},
   "outputs": [],
   "source": [
    "# dictionary from example user input: \n",
    "user_dict = {'movie1': 'Jurassic Park', 'rating1': '1', 'movie2': 'Up', 'rating2': '5', 'movie3': 'I, Robot', 'rating3': '3'}"
   ]
  },
  {
   "cell_type": "code",
   "execution_count": null,
   "metadata": {},
   "outputs": [],
   "source": [
    "# reformat dictionary to format input_movie:input_rating\n",
    "def format_dict(user_dict):\n",
    "    user_dict_new = {user_dict.get('movie1'): user_dict.get('rating1'), user_dict.get('movie2'): user_dict.get('rating2'),user_dict.get('movie3'): user_dict.get('rating3')}\n",
    "    return user_dict_new"
   ]
  },
  {
   "cell_type": "code",
   "execution_count": null,
   "metadata": {},
   "outputs": [],
   "source": [
    "user_dict_new = format_dict(user_dict)"
   ]
  },
  {
   "cell_type": "code",
   "execution_count": null,
   "metadata": {},
   "outputs": [],
   "source": [
    "# create dict with movieIds and movie names from movies df: \n",
    "MOVIE_NAMES = dict(zip(movies['movieid'], movies['title']))"
   ]
  },
  {
   "cell_type": "code",
   "execution_count": null,
   "metadata": {},
   "outputs": [],
   "source": [
    "# check user dictionary\n",
    "for movie in user_dict_new: \n",
    "    print(movie)"
   ]
  },
  {
   "cell_type": "code",
   "execution_count": null,
   "metadata": {},
   "outputs": [],
   "source": [
    "def user_movie_index(user_dict):\n",
    "    \"\"\"compares movie titles in user input dict to titles in movie names dict with fuzzybuzzy. If sort ration > 70 original\n",
    "       movie title and movie Id are appended to list user_movie_index. If doubles occur, error is thrown.\n",
    "        returns list with tuples of movieId and movie title\"\"\"\n",
    "    \n",
    "    user_movie_index = []\n",
    "\n",
    "    for movie in user_dict: \n",
    "        movie = str(movie).lower()\n",
    "        print(' movies in user_dict: ' + movie)\n",
    "        for index, moviename in MOVIE_NAMES.items(): \n",
    "            if fuzz.token_sort_ratio(movie, moviename) > 70:\n",
    "                print('over 70: ' + moviename)\n",
    "                user_movie_index.append([index, moviename])\n",
    "                print('appended: ' + str(user_movie_index))\n",
    "            \n",
    "    if len(user_movie_index) != len(user_dict):\n",
    "        print(\"sorry, this doesn't work for now, please be more precise about the year or chose another movie: \" + str(dict(user_movie_index).values()))\n",
    "\n",
    "    return user_movie_index"
   ]
  },
  {
   "cell_type": "code",
   "execution_count": null,
   "metadata": {},
   "outputs": [],
   "source": [
    "user_movie_index = user_movie_index(user_dict_new)"
   ]
  },
  {
   "cell_type": "code",
   "execution_count": null,
   "metadata": {},
   "outputs": [],
   "source": [
    "user_movie_index"
   ]
  },
  {
   "cell_type": "code",
   "execution_count": null,
   "metadata": {},
   "outputs": [],
   "source": [
    "def to_array(user_movie_index, user_dict):\n",
    "    \"\"\"input user dict with moive names and ratings. Creates df out of it, formats it, joins with columns of ratings df\n",
    "       and keeps only new_user row. To array, returns array in shape (1, 9724,)\"\"\"\n",
    "    # to df:\n",
    "    user_df = pd.DataFrame(user_movie_index)\n",
    "    # add ratings from user_dict (input) to column\n",
    "    user_df['rating'] = user_dict.values()\n",
    "    # drop movie titles\n",
    "    user_df.drop([1], axis=1, inplace=True)\n",
    "    # rename Movie ID column for better overview\n",
    "    user_df.rename(columns = {0:'movieId'}, inplace=True)\n",
    "    # to right format:\n",
    "    user_ratings = user_df.set_index(['movieId']).transpose()\n",
    "    # join with ratings df and keep only 1st row\n",
    "    user_ratings = pd.concat([user_ratings, ratings], axis=0, join='outer').iloc[0]\n",
    "    # get rid of Nan's:\n",
    "    user_ratings = user_ratings.fillna(ratings.mean().round(2))\n",
    "    # to array: \n",
    "    user_array = user_ratings.to_numpy()\n",
    "    # reshape: \n",
    "    user_array = user_array.reshape(1, 9724)\n",
    "    \n",
    "    return user_array"
   ]
  },
  {
   "cell_type": "code",
   "execution_count": null,
   "metadata": {},
   "outputs": [],
   "source": [
    "user_array = to_array(user_movie_index, user_dict_new)"
   ]
  },
  {
   "cell_type": "code",
   "execution_count": null,
   "metadata": {},
   "outputs": [],
   "source": [
    "user_array"
   ]
  },
  {
   "cell_type": "code",
   "execution_count": null,
   "metadata": {},
   "outputs": [],
   "source": [
    "# load model: \n",
    "trained_NMF = load('/Users/krystanafoh/flask-recommender/NMF.joblib')\n",
    "#list for movie names. \n",
    "movie_names = list(zip(movies['movieid'], movies['title']))\n",
    "\n",
    "def get_prediction(user_array, trained_model):\n",
    "    \"\"\"takes in user array, makes prediction with saved NMF model, shows best prediction - movie title\"\"\"\n",
    "    \n",
    "    profile = trained_model.transform(user_array)\n",
    "    Q = trained_model.components_     # movie-genre matrix\n",
    "    movie_preds = np.dot(profile, Q)  # user-genre matrix\n",
    "    best_rating = movie_preds.argmax()\n",
    "    movie = movie_names[best_rating]\n",
    "    print(movie[1])\n",
    "    \n",
    "    return movie[1]    "
   ]
  },
  {
   "cell_type": "code",
   "execution_count": null,
   "metadata": {},
   "outputs": [],
   "source": [
    "recommendation = get_prediction(user_array, trained_NMF)"
   ]
  }
 ],
 "metadata": {
  "kernelspec": {
   "display_name": "Python 3",
   "language": "python",
   "name": "python3"
  },
  "language_info": {
   "codemirror_mode": {
    "name": "ipython",
    "version": 3
   },
   "file_extension": ".py",
   "mimetype": "text/x-python",
   "name": "python",
   "nbconvert_exporter": "python",
   "pygments_lexer": "ipython3",
   "version": "3.8.5"
  }
 },
 "nbformat": 4,
 "nbformat_minor": 4
}
