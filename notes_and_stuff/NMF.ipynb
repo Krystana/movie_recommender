{
 "cells": [
  {
   "cell_type": "code",
   "execution_count": 1,
   "metadata": {},
   "outputs": [
    {
     "name": "stderr",
     "output_type": "stream",
     "text": [
      "/opt/anaconda3/lib/python3.8/site-packages/fuzzywuzzy/fuzz.py:11: UserWarning: Using slow pure-python SequenceMatcher. Install python-Levenshtein to remove this warning\n",
      "  warnings.warn('Using slow pure-python SequenceMatcher. Install python-Levenshtein to remove this warning')\n"
     ]
    }
   ],
   "source": [
    "from sqlalchemy import create_engine\n",
    "from sklearn.decomposition import NMF\n",
    "\n",
    "import pandas as pd\n",
    "import numpy as np\n",
    "import os\n",
    "from joblib import load, dump\n",
    "#! pip install fuzzywuzzy\n",
    "from fuzzywuzzy import fuzz\n"
   ]
  },
  {
   "cell_type": "markdown",
   "metadata": {},
   "source": [
    "#### connect to database:"
   ]
  },
  {
   "cell_type": "code",
   "execution_count": 2,
   "metadata": {},
   "outputs": [],
   "source": [
    "HOST = 'localhost'\n",
    "PORT = '5432'\n",
    "DB = 'movieLens'"
   ]
  },
  {
   "cell_type": "code",
   "execution_count": 3,
   "metadata": {},
   "outputs": [],
   "source": [
    "conn_string = f'postgres://{HOST}:{PORT}/{DB}' "
   ]
  },
  {
   "cell_type": "code",
   "execution_count": 4,
   "metadata": {},
   "outputs": [],
   "source": [
    "engine = create_engine(conn_string)"
   ]
  },
  {
   "cell_type": "markdown",
   "metadata": {},
   "source": [
    "#### get tables to df's: "
   ]
  },
  {
   "cell_type": "code",
   "execution_count": 5,
   "metadata": {},
   "outputs": [],
   "source": [
    "ratings = pd.read_sql_query('SELECT * FROM ratings', con=engine)"
   ]
  },
  {
   "cell_type": "code",
   "execution_count": 6,
   "metadata": {},
   "outputs": [],
   "source": [
    "ratings = ratings.set_index('userid')"
   ]
  },
  {
   "cell_type": "code",
   "execution_count": 7,
   "metadata": {},
   "outputs": [],
   "source": [
    "ratings = ratings.drop('time_stamps', axis=1)"
   ]
  },
  {
   "cell_type": "code",
   "execution_count": 8,
   "metadata": {},
   "outputs": [],
   "source": [
    "movies = pd.read_sql_query('SELECT * FROM movies', con=engine)"
   ]
  },
  {
   "cell_type": "code",
   "execution_count": 9,
   "metadata": {},
   "outputs": [
    {
     "data": {
      "text/html": [
       "<div>\n",
       "<style scoped>\n",
       "    .dataframe tbody tr th:only-of-type {\n",
       "        vertical-align: middle;\n",
       "    }\n",
       "\n",
       "    .dataframe tbody tr th {\n",
       "        vertical-align: top;\n",
       "    }\n",
       "\n",
       "    .dataframe thead th {\n",
       "        text-align: right;\n",
       "    }\n",
       "</style>\n",
       "<table border=\"1\" class=\"dataframe\">\n",
       "  <thead>\n",
       "    <tr style=\"text-align: right;\">\n",
       "      <th></th>\n",
       "      <th>movieid</th>\n",
       "      <th>title</th>\n",
       "      <th>genre</th>\n",
       "    </tr>\n",
       "  </thead>\n",
       "  <tbody>\n",
       "    <tr>\n",
       "      <th>0</th>\n",
       "      <td>1</td>\n",
       "      <td>Toy Story (1995)</td>\n",
       "      <td>Adventure|Animation|Children|Comedy|Fantasy</td>\n",
       "    </tr>\n",
       "    <tr>\n",
       "      <th>1</th>\n",
       "      <td>2</td>\n",
       "      <td>Jumanji (1995)</td>\n",
       "      <td>Adventure|Children|Fantasy</td>\n",
       "    </tr>\n",
       "    <tr>\n",
       "      <th>2</th>\n",
       "      <td>3</td>\n",
       "      <td>Grumpier Old Men (1995)</td>\n",
       "      <td>Comedy|Romance</td>\n",
       "    </tr>\n",
       "    <tr>\n",
       "      <th>3</th>\n",
       "      <td>4</td>\n",
       "      <td>Waiting to Exhale (1995)</td>\n",
       "      <td>Comedy|Drama|Romance</td>\n",
       "    </tr>\n",
       "    <tr>\n",
       "      <th>4</th>\n",
       "      <td>5</td>\n",
       "      <td>Father of the Bride Part II (1995)</td>\n",
       "      <td>Comedy</td>\n",
       "    </tr>\n",
       "    <tr>\n",
       "      <th>...</th>\n",
       "      <td>...</td>\n",
       "      <td>...</td>\n",
       "      <td>...</td>\n",
       "    </tr>\n",
       "    <tr>\n",
       "      <th>9737</th>\n",
       "      <td>193581</td>\n",
       "      <td>Black Butler: Book of the Atlantic (2017)</td>\n",
       "      <td>Action|Animation|Comedy|Fantasy</td>\n",
       "    </tr>\n",
       "    <tr>\n",
       "      <th>9738</th>\n",
       "      <td>193583</td>\n",
       "      <td>No Game No Life: Zero (2017)</td>\n",
       "      <td>Animation|Comedy|Fantasy</td>\n",
       "    </tr>\n",
       "    <tr>\n",
       "      <th>9739</th>\n",
       "      <td>193585</td>\n",
       "      <td>Flint (2017)</td>\n",
       "      <td>Drama</td>\n",
       "    </tr>\n",
       "    <tr>\n",
       "      <th>9740</th>\n",
       "      <td>193587</td>\n",
       "      <td>Bungo Stray Dogs: Dead Apple (2018)</td>\n",
       "      <td>Action|Animation</td>\n",
       "    </tr>\n",
       "    <tr>\n",
       "      <th>9741</th>\n",
       "      <td>193609</td>\n",
       "      <td>Andrew Dice Clay: Dice Rules (1991)</td>\n",
       "      <td>Comedy</td>\n",
       "    </tr>\n",
       "  </tbody>\n",
       "</table>\n",
       "<p>9742 rows × 3 columns</p>\n",
       "</div>"
      ],
      "text/plain": [
       "      movieid                                      title  \\\n",
       "0           1                           Toy Story (1995)   \n",
       "1           2                             Jumanji (1995)   \n",
       "2           3                    Grumpier Old Men (1995)   \n",
       "3           4                   Waiting to Exhale (1995)   \n",
       "4           5         Father of the Bride Part II (1995)   \n",
       "...       ...                                        ...   \n",
       "9737   193581  Black Butler: Book of the Atlantic (2017)   \n",
       "9738   193583               No Game No Life: Zero (2017)   \n",
       "9739   193585                               Flint (2017)   \n",
       "9740   193587        Bungo Stray Dogs: Dead Apple (2018)   \n",
       "9741   193609        Andrew Dice Clay: Dice Rules (1991)   \n",
       "\n",
       "                                            genre  \n",
       "0     Adventure|Animation|Children|Comedy|Fantasy  \n",
       "1                      Adventure|Children|Fantasy  \n",
       "2                                  Comedy|Romance  \n",
       "3                            Comedy|Drama|Romance  \n",
       "4                                          Comedy  \n",
       "...                                           ...  \n",
       "9737              Action|Animation|Comedy|Fantasy  \n",
       "9738                     Animation|Comedy|Fantasy  \n",
       "9739                                        Drama  \n",
       "9740                             Action|Animation  \n",
       "9741                                       Comedy  \n",
       "\n",
       "[9742 rows x 3 columns]"
      ]
     },
     "execution_count": 9,
     "metadata": {},
     "output_type": "execute_result"
    }
   ],
   "source": [
    "movies"
   ]
  },
  {
   "cell_type": "code",
   "execution_count": 10,
   "metadata": {},
   "outputs": [
    {
     "data": {
      "text/html": [
       "<div>\n",
       "<style scoped>\n",
       "    .dataframe tbody tr th:only-of-type {\n",
       "        vertical-align: middle;\n",
       "    }\n",
       "\n",
       "    .dataframe tbody tr th {\n",
       "        vertical-align: top;\n",
       "    }\n",
       "\n",
       "    .dataframe thead th {\n",
       "        text-align: right;\n",
       "    }\n",
       "</style>\n",
       "<table border=\"1\" class=\"dataframe\">\n",
       "  <thead>\n",
       "    <tr style=\"text-align: right;\">\n",
       "      <th></th>\n",
       "      <th>movieid</th>\n",
       "      <th>rating</th>\n",
       "    </tr>\n",
       "    <tr>\n",
       "      <th>userid</th>\n",
       "      <th></th>\n",
       "      <th></th>\n",
       "    </tr>\n",
       "  </thead>\n",
       "  <tbody>\n",
       "    <tr>\n",
       "      <th>1</th>\n",
       "      <td>1</td>\n",
       "      <td>4.0</td>\n",
       "    </tr>\n",
       "    <tr>\n",
       "      <th>1</th>\n",
       "      <td>3</td>\n",
       "      <td>4.0</td>\n",
       "    </tr>\n",
       "    <tr>\n",
       "      <th>1</th>\n",
       "      <td>6</td>\n",
       "      <td>4.0</td>\n",
       "    </tr>\n",
       "    <tr>\n",
       "      <th>1</th>\n",
       "      <td>47</td>\n",
       "      <td>5.0</td>\n",
       "    </tr>\n",
       "    <tr>\n",
       "      <th>1</th>\n",
       "      <td>50</td>\n",
       "      <td>5.0</td>\n",
       "    </tr>\n",
       "    <tr>\n",
       "      <th>...</th>\n",
       "      <td>...</td>\n",
       "      <td>...</td>\n",
       "    </tr>\n",
       "    <tr>\n",
       "      <th>610</th>\n",
       "      <td>166534</td>\n",
       "      <td>4.0</td>\n",
       "    </tr>\n",
       "    <tr>\n",
       "      <th>610</th>\n",
       "      <td>168248</td>\n",
       "      <td>5.0</td>\n",
       "    </tr>\n",
       "    <tr>\n",
       "      <th>610</th>\n",
       "      <td>168250</td>\n",
       "      <td>5.0</td>\n",
       "    </tr>\n",
       "    <tr>\n",
       "      <th>610</th>\n",
       "      <td>168252</td>\n",
       "      <td>5.0</td>\n",
       "    </tr>\n",
       "    <tr>\n",
       "      <th>610</th>\n",
       "      <td>170875</td>\n",
       "      <td>3.0</td>\n",
       "    </tr>\n",
       "  </tbody>\n",
       "</table>\n",
       "<p>100836 rows × 2 columns</p>\n",
       "</div>"
      ],
      "text/plain": [
       "        movieid  rating\n",
       "userid                 \n",
       "1             1     4.0\n",
       "1             3     4.0\n",
       "1             6     4.0\n",
       "1            47     5.0\n",
       "1            50     5.0\n",
       "...         ...     ...\n",
       "610      166534     4.0\n",
       "610      168248     5.0\n",
       "610      168250     5.0\n",
       "610      168252     5.0\n",
       "610      170875     3.0\n",
       "\n",
       "[100836 rows x 2 columns]"
      ]
     },
     "execution_count": 10,
     "metadata": {},
     "output_type": "execute_result"
    }
   ],
   "source": [
    "ratings"
   ]
  },
  {
   "cell_type": "code",
   "execution_count": 11,
   "metadata": {},
   "outputs": [],
   "source": [
    "# get right shape for matrix multiplication\n",
    "ratings = ratings.pivot_table(index=ratings.index, values='rating', columns='movieid')"
   ]
  },
  {
   "cell_type": "code",
   "execution_count": 12,
   "metadata": {},
   "outputs": [],
   "source": [
    "ratings = ratings.fillna(ratings.mean().round(2)) # !!fill with 3.0? # which mean is that now? - mean per column or what?"
   ]
  },
  {
   "cell_type": "code",
   "execution_count": 13,
   "metadata": {
    "scrolled": true
   },
   "outputs": [],
   "source": [
    "#ratings.isna().sum()"
   ]
  },
  {
   "cell_type": "code",
   "execution_count": 14,
   "metadata": {},
   "outputs": [
    {
     "data": {
      "text/html": [
       "<div>\n",
       "<style scoped>\n",
       "    .dataframe tbody tr th:only-of-type {\n",
       "        vertical-align: middle;\n",
       "    }\n",
       "\n",
       "    .dataframe tbody tr th {\n",
       "        vertical-align: top;\n",
       "    }\n",
       "\n",
       "    .dataframe thead th {\n",
       "        text-align: right;\n",
       "    }\n",
       "</style>\n",
       "<table border=\"1\" class=\"dataframe\">\n",
       "  <thead>\n",
       "    <tr style=\"text-align: right;\">\n",
       "      <th>movieid</th>\n",
       "      <th>1</th>\n",
       "      <th>2</th>\n",
       "      <th>3</th>\n",
       "      <th>4</th>\n",
       "      <th>5</th>\n",
       "      <th>6</th>\n",
       "      <th>7</th>\n",
       "      <th>8</th>\n",
       "      <th>9</th>\n",
       "      <th>10</th>\n",
       "      <th>...</th>\n",
       "      <th>193565</th>\n",
       "      <th>193567</th>\n",
       "      <th>193571</th>\n",
       "      <th>193573</th>\n",
       "      <th>193579</th>\n",
       "      <th>193581</th>\n",
       "      <th>193583</th>\n",
       "      <th>193585</th>\n",
       "      <th>193587</th>\n",
       "      <th>193609</th>\n",
       "    </tr>\n",
       "    <tr>\n",
       "      <th>userid</th>\n",
       "      <th></th>\n",
       "      <th></th>\n",
       "      <th></th>\n",
       "      <th></th>\n",
       "      <th></th>\n",
       "      <th></th>\n",
       "      <th></th>\n",
       "      <th></th>\n",
       "      <th></th>\n",
       "      <th></th>\n",
       "      <th></th>\n",
       "      <th></th>\n",
       "      <th></th>\n",
       "      <th></th>\n",
       "      <th></th>\n",
       "      <th></th>\n",
       "      <th></th>\n",
       "      <th></th>\n",
       "      <th></th>\n",
       "      <th></th>\n",
       "      <th></th>\n",
       "    </tr>\n",
       "  </thead>\n",
       "  <tbody>\n",
       "    <tr>\n",
       "      <th>1</th>\n",
       "      <td>4.00</td>\n",
       "      <td>3.43</td>\n",
       "      <td>4.00</td>\n",
       "      <td>2.36</td>\n",
       "      <td>3.07</td>\n",
       "      <td>4.00</td>\n",
       "      <td>3.19</td>\n",
       "      <td>2.88</td>\n",
       "      <td>3.12</td>\n",
       "      <td>3.5</td>\n",
       "      <td>...</td>\n",
       "      <td>3.5</td>\n",
       "      <td>3.0</td>\n",
       "      <td>4.0</td>\n",
       "      <td>4.0</td>\n",
       "      <td>3.5</td>\n",
       "      <td>4.0</td>\n",
       "      <td>3.5</td>\n",
       "      <td>3.5</td>\n",
       "      <td>3.5</td>\n",
       "      <td>4.0</td>\n",
       "    </tr>\n",
       "    <tr>\n",
       "      <th>2</th>\n",
       "      <td>3.92</td>\n",
       "      <td>3.43</td>\n",
       "      <td>3.26</td>\n",
       "      <td>2.36</td>\n",
       "      <td>3.07</td>\n",
       "      <td>3.95</td>\n",
       "      <td>3.19</td>\n",
       "      <td>2.88</td>\n",
       "      <td>3.12</td>\n",
       "      <td>3.5</td>\n",
       "      <td>...</td>\n",
       "      <td>3.5</td>\n",
       "      <td>3.0</td>\n",
       "      <td>4.0</td>\n",
       "      <td>4.0</td>\n",
       "      <td>3.5</td>\n",
       "      <td>4.0</td>\n",
       "      <td>3.5</td>\n",
       "      <td>3.5</td>\n",
       "      <td>3.5</td>\n",
       "      <td>4.0</td>\n",
       "    </tr>\n",
       "    <tr>\n",
       "      <th>3</th>\n",
       "      <td>3.92</td>\n",
       "      <td>3.43</td>\n",
       "      <td>3.26</td>\n",
       "      <td>2.36</td>\n",
       "      <td>3.07</td>\n",
       "      <td>3.95</td>\n",
       "      <td>3.19</td>\n",
       "      <td>2.88</td>\n",
       "      <td>3.12</td>\n",
       "      <td>3.5</td>\n",
       "      <td>...</td>\n",
       "      <td>3.5</td>\n",
       "      <td>3.0</td>\n",
       "      <td>4.0</td>\n",
       "      <td>4.0</td>\n",
       "      <td>3.5</td>\n",
       "      <td>4.0</td>\n",
       "      <td>3.5</td>\n",
       "      <td>3.5</td>\n",
       "      <td>3.5</td>\n",
       "      <td>4.0</td>\n",
       "    </tr>\n",
       "    <tr>\n",
       "      <th>4</th>\n",
       "      <td>3.92</td>\n",
       "      <td>3.43</td>\n",
       "      <td>3.26</td>\n",
       "      <td>2.36</td>\n",
       "      <td>3.07</td>\n",
       "      <td>3.95</td>\n",
       "      <td>3.19</td>\n",
       "      <td>2.88</td>\n",
       "      <td>3.12</td>\n",
       "      <td>3.5</td>\n",
       "      <td>...</td>\n",
       "      <td>3.5</td>\n",
       "      <td>3.0</td>\n",
       "      <td>4.0</td>\n",
       "      <td>4.0</td>\n",
       "      <td>3.5</td>\n",
       "      <td>4.0</td>\n",
       "      <td>3.5</td>\n",
       "      <td>3.5</td>\n",
       "      <td>3.5</td>\n",
       "      <td>4.0</td>\n",
       "    </tr>\n",
       "    <tr>\n",
       "      <th>5</th>\n",
       "      <td>4.00</td>\n",
       "      <td>3.43</td>\n",
       "      <td>3.26</td>\n",
       "      <td>2.36</td>\n",
       "      <td>3.07</td>\n",
       "      <td>3.95</td>\n",
       "      <td>3.19</td>\n",
       "      <td>2.88</td>\n",
       "      <td>3.12</td>\n",
       "      <td>3.5</td>\n",
       "      <td>...</td>\n",
       "      <td>3.5</td>\n",
       "      <td>3.0</td>\n",
       "      <td>4.0</td>\n",
       "      <td>4.0</td>\n",
       "      <td>3.5</td>\n",
       "      <td>4.0</td>\n",
       "      <td>3.5</td>\n",
       "      <td>3.5</td>\n",
       "      <td>3.5</td>\n",
       "      <td>4.0</td>\n",
       "    </tr>\n",
       "    <tr>\n",
       "      <th>...</th>\n",
       "      <td>...</td>\n",
       "      <td>...</td>\n",
       "      <td>...</td>\n",
       "      <td>...</td>\n",
       "      <td>...</td>\n",
       "      <td>...</td>\n",
       "      <td>...</td>\n",
       "      <td>...</td>\n",
       "      <td>...</td>\n",
       "      <td>...</td>\n",
       "      <td>...</td>\n",
       "      <td>...</td>\n",
       "      <td>...</td>\n",
       "      <td>...</td>\n",
       "      <td>...</td>\n",
       "      <td>...</td>\n",
       "      <td>...</td>\n",
       "      <td>...</td>\n",
       "      <td>...</td>\n",
       "      <td>...</td>\n",
       "      <td>...</td>\n",
       "    </tr>\n",
       "    <tr>\n",
       "      <th>606</th>\n",
       "      <td>2.50</td>\n",
       "      <td>3.43</td>\n",
       "      <td>3.26</td>\n",
       "      <td>2.36</td>\n",
       "      <td>3.07</td>\n",
       "      <td>3.95</td>\n",
       "      <td>2.50</td>\n",
       "      <td>2.88</td>\n",
       "      <td>3.12</td>\n",
       "      <td>3.5</td>\n",
       "      <td>...</td>\n",
       "      <td>3.5</td>\n",
       "      <td>3.0</td>\n",
       "      <td>4.0</td>\n",
       "      <td>4.0</td>\n",
       "      <td>3.5</td>\n",
       "      <td>4.0</td>\n",
       "      <td>3.5</td>\n",
       "      <td>3.5</td>\n",
       "      <td>3.5</td>\n",
       "      <td>4.0</td>\n",
       "    </tr>\n",
       "    <tr>\n",
       "      <th>607</th>\n",
       "      <td>4.00</td>\n",
       "      <td>3.43</td>\n",
       "      <td>3.26</td>\n",
       "      <td>2.36</td>\n",
       "      <td>3.07</td>\n",
       "      <td>3.95</td>\n",
       "      <td>3.19</td>\n",
       "      <td>2.88</td>\n",
       "      <td>3.12</td>\n",
       "      <td>3.5</td>\n",
       "      <td>...</td>\n",
       "      <td>3.5</td>\n",
       "      <td>3.0</td>\n",
       "      <td>4.0</td>\n",
       "      <td>4.0</td>\n",
       "      <td>3.5</td>\n",
       "      <td>4.0</td>\n",
       "      <td>3.5</td>\n",
       "      <td>3.5</td>\n",
       "      <td>3.5</td>\n",
       "      <td>4.0</td>\n",
       "    </tr>\n",
       "    <tr>\n",
       "      <th>608</th>\n",
       "      <td>2.50</td>\n",
       "      <td>2.00</td>\n",
       "      <td>2.00</td>\n",
       "      <td>2.36</td>\n",
       "      <td>3.07</td>\n",
       "      <td>3.95</td>\n",
       "      <td>3.19</td>\n",
       "      <td>2.88</td>\n",
       "      <td>3.12</td>\n",
       "      <td>4.0</td>\n",
       "      <td>...</td>\n",
       "      <td>3.5</td>\n",
       "      <td>3.0</td>\n",
       "      <td>4.0</td>\n",
       "      <td>4.0</td>\n",
       "      <td>3.5</td>\n",
       "      <td>4.0</td>\n",
       "      <td>3.5</td>\n",
       "      <td>3.5</td>\n",
       "      <td>3.5</td>\n",
       "      <td>4.0</td>\n",
       "    </tr>\n",
       "    <tr>\n",
       "      <th>609</th>\n",
       "      <td>3.00</td>\n",
       "      <td>3.43</td>\n",
       "      <td>3.26</td>\n",
       "      <td>2.36</td>\n",
       "      <td>3.07</td>\n",
       "      <td>3.95</td>\n",
       "      <td>3.19</td>\n",
       "      <td>2.88</td>\n",
       "      <td>3.12</td>\n",
       "      <td>4.0</td>\n",
       "      <td>...</td>\n",
       "      <td>3.5</td>\n",
       "      <td>3.0</td>\n",
       "      <td>4.0</td>\n",
       "      <td>4.0</td>\n",
       "      <td>3.5</td>\n",
       "      <td>4.0</td>\n",
       "      <td>3.5</td>\n",
       "      <td>3.5</td>\n",
       "      <td>3.5</td>\n",
       "      <td>4.0</td>\n",
       "    </tr>\n",
       "    <tr>\n",
       "      <th>610</th>\n",
       "      <td>5.00</td>\n",
       "      <td>3.43</td>\n",
       "      <td>3.26</td>\n",
       "      <td>2.36</td>\n",
       "      <td>3.07</td>\n",
       "      <td>5.00</td>\n",
       "      <td>3.19</td>\n",
       "      <td>2.88</td>\n",
       "      <td>3.12</td>\n",
       "      <td>3.5</td>\n",
       "      <td>...</td>\n",
       "      <td>3.5</td>\n",
       "      <td>3.0</td>\n",
       "      <td>4.0</td>\n",
       "      <td>4.0</td>\n",
       "      <td>3.5</td>\n",
       "      <td>4.0</td>\n",
       "      <td>3.5</td>\n",
       "      <td>3.5</td>\n",
       "      <td>3.5</td>\n",
       "      <td>4.0</td>\n",
       "    </tr>\n",
       "  </tbody>\n",
       "</table>\n",
       "<p>610 rows × 9724 columns</p>\n",
       "</div>"
      ],
      "text/plain": [
       "movieid  1       2       3       4       5       6       7       8       \\\n",
       "userid                                                                    \n",
       "1          4.00    3.43    4.00    2.36    3.07    4.00    3.19    2.88   \n",
       "2          3.92    3.43    3.26    2.36    3.07    3.95    3.19    2.88   \n",
       "3          3.92    3.43    3.26    2.36    3.07    3.95    3.19    2.88   \n",
       "4          3.92    3.43    3.26    2.36    3.07    3.95    3.19    2.88   \n",
       "5          4.00    3.43    3.26    2.36    3.07    3.95    3.19    2.88   \n",
       "...         ...     ...     ...     ...     ...     ...     ...     ...   \n",
       "606        2.50    3.43    3.26    2.36    3.07    3.95    2.50    2.88   \n",
       "607        4.00    3.43    3.26    2.36    3.07    3.95    3.19    2.88   \n",
       "608        2.50    2.00    2.00    2.36    3.07    3.95    3.19    2.88   \n",
       "609        3.00    3.43    3.26    2.36    3.07    3.95    3.19    2.88   \n",
       "610        5.00    3.43    3.26    2.36    3.07    5.00    3.19    2.88   \n",
       "\n",
       "movieid  9       10      ...  193565  193567  193571  193573  193579  193581  \\\n",
       "userid                   ...                                                   \n",
       "1          3.12     3.5  ...     3.5     3.0     4.0     4.0     3.5     4.0   \n",
       "2          3.12     3.5  ...     3.5     3.0     4.0     4.0     3.5     4.0   \n",
       "3          3.12     3.5  ...     3.5     3.0     4.0     4.0     3.5     4.0   \n",
       "4          3.12     3.5  ...     3.5     3.0     4.0     4.0     3.5     4.0   \n",
       "5          3.12     3.5  ...     3.5     3.0     4.0     4.0     3.5     4.0   \n",
       "...         ...     ...  ...     ...     ...     ...     ...     ...     ...   \n",
       "606        3.12     3.5  ...     3.5     3.0     4.0     4.0     3.5     4.0   \n",
       "607        3.12     3.5  ...     3.5     3.0     4.0     4.0     3.5     4.0   \n",
       "608        3.12     4.0  ...     3.5     3.0     4.0     4.0     3.5     4.0   \n",
       "609        3.12     4.0  ...     3.5     3.0     4.0     4.0     3.5     4.0   \n",
       "610        3.12     3.5  ...     3.5     3.0     4.0     4.0     3.5     4.0   \n",
       "\n",
       "movieid  193583  193585  193587  193609  \n",
       "userid                                   \n",
       "1           3.5     3.5     3.5     4.0  \n",
       "2           3.5     3.5     3.5     4.0  \n",
       "3           3.5     3.5     3.5     4.0  \n",
       "4           3.5     3.5     3.5     4.0  \n",
       "5           3.5     3.5     3.5     4.0  \n",
       "...         ...     ...     ...     ...  \n",
       "606         3.5     3.5     3.5     4.0  \n",
       "607         3.5     3.5     3.5     4.0  \n",
       "608         3.5     3.5     3.5     4.0  \n",
       "609         3.5     3.5     3.5     4.0  \n",
       "610         3.5     3.5     3.5     4.0  \n",
       "\n",
       "[610 rows x 9724 columns]"
      ]
     },
     "execution_count": 14,
     "metadata": {},
     "output_type": "execute_result"
    }
   ],
   "source": [
    "ratings"
   ]
  },
  {
   "cell_type": "markdown",
   "metadata": {},
   "source": [
    "### Matrix Multiplication"
   ]
  },
  {
   "cell_type": "code",
   "execution_count": 15,
   "metadata": {},
   "outputs": [],
   "source": [
    "model = NMF(n_components=20, init='random', random_state=10, max_iter=1000)"
   ]
  },
  {
   "cell_type": "code",
   "execution_count": 16,
   "metadata": {},
   "outputs": [
    {
     "name": "stderr",
     "output_type": "stream",
     "text": [
      "/opt/anaconda3/lib/python3.8/site-packages/sklearn/decomposition/_nmf.py:1076: ConvergenceWarning: Maximum number of iterations 1000 reached. Increase it to improve convergence.\n",
      "  warnings.warn(\"Maximum number of iterations %d reached. Increase it to\"\n"
     ]
    },
    {
     "data": {
      "text/plain": [
       "NMF(init='random', max_iter=1000, n_components=20, random_state=10)"
      ]
     },
     "execution_count": 16,
     "metadata": {},
     "output_type": "execute_result"
    }
   ],
   "source": [
    "model.fit(ratings)"
   ]
  },
  {
   "cell_type": "code",
   "execution_count": 17,
   "metadata": {},
   "outputs": [],
   "source": [
    "def dump_model(MODEL_fitted):\n",
    "    dump(MODEL_fitted, './NMF.joblib')"
   ]
  },
  {
   "cell_type": "code",
   "execution_count": 18,
   "metadata": {},
   "outputs": [],
   "source": [
    "dump_model(model)"
   ]
  },
  {
   "cell_type": "code",
   "execution_count": 19,
   "metadata": {},
   "outputs": [],
   "source": [
    "#Q = model.components_ "
   ]
  },
  {
   "cell_type": "code",
   "execution_count": 20,
   "metadata": {},
   "outputs": [],
   "source": [
    "#P = model.transform(ratings)"
   ]
  },
  {
   "cell_type": "code",
   "execution_count": 21,
   "metadata": {},
   "outputs": [
    {
     "name": "stdout",
     "output_type": "stream",
     "text": [
      "243.47673611192806\n"
     ]
    }
   ],
   "source": [
    "print(model.reconstruction_err_)"
   ]
  },
  {
   "cell_type": "code",
   "execution_count": 22,
   "metadata": {},
   "outputs": [
    {
     "ename": "NameError",
     "evalue": "name 'P' is not defined",
     "output_type": "error",
     "traceback": [
      "\u001b[0;31m---------------------------------------------------------------------------\u001b[0m",
      "\u001b[0;31mNameError\u001b[0m                                 Traceback (most recent call last)",
      "\u001b[0;32m<ipython-input-22-f6fd5c60de19>\u001b[0m in \u001b[0;36m<module>\u001b[0;34m\u001b[0m\n\u001b[0;32m----> 1\u001b[0;31m \u001b[0mnR\u001b[0m \u001b[0;34m=\u001b[0m \u001b[0mnp\u001b[0m\u001b[0;34m.\u001b[0m\u001b[0mdot\u001b[0m\u001b[0;34m(\u001b[0m\u001b[0mP\u001b[0m\u001b[0;34m,\u001b[0m \u001b[0mQ\u001b[0m\u001b[0;34m)\u001b[0m\u001b[0;34m\u001b[0m\u001b[0;34m\u001b[0m\u001b[0m\n\u001b[0m\u001b[1;32m      2\u001b[0m \u001b[0mprint\u001b[0m\u001b[0;34m(\u001b[0m\u001b[0mnR\u001b[0m\u001b[0;34m)\u001b[0m \u001b[0;31m## The reconstructed matrix!\u001b[0m\u001b[0;34m\u001b[0m\u001b[0;34m\u001b[0m\u001b[0m\n",
      "\u001b[0;31mNameError\u001b[0m: name 'P' is not defined"
     ]
    }
   ],
   "source": [
    "nR = np.dot(P, Q)\n",
    "print(nR) ## The reconstructed matrix!\n"
   ]
  },
  {
   "cell_type": "markdown",
   "metadata": {},
   "source": [
    "#### recommendations for one user with NMF: "
   ]
  },
  {
   "cell_type": "code",
   "execution_count": null,
   "metadata": {},
   "outputs": [],
   "source": [
    "user = ratings.loc[[101]] # need double square brackets!"
   ]
  },
  {
   "cell_type": "code",
   "execution_count": null,
   "metadata": {},
   "outputs": [],
   "source": [
    "#user.reshape(1, -1) not necessary then"
   ]
  },
  {
   "cell_type": "code",
   "execution_count": null,
   "metadata": {},
   "outputs": [],
   "source": [
    "user.shape"
   ]
  },
  {
   "cell_type": "code",
   "execution_count": null,
   "metadata": {},
   "outputs": [],
   "source": [
    "ratings.shape"
   ]
  },
  {
   "cell_type": "code",
   "execution_count": null,
   "metadata": {},
   "outputs": [],
   "source": [
    "profile = model.transform(user)"
   ]
  },
  {
   "cell_type": "code",
   "execution_count": null,
   "metadata": {},
   "outputs": [],
   "source": [
    "model.components_.shape # this is Q or P"
   ]
  },
  {
   "cell_type": "code",
   "execution_count": null,
   "metadata": {},
   "outputs": [],
   "source": [
    "# approximate the reconstructed matrix for this user\n",
    "movie_preds = np.dot(profile, model.components_)\n",
    "movie_preds.round(2)   # centered around 3.0"
   ]
  },
  {
   "cell_type": "code",
   "execution_count": null,
   "metadata": {},
   "outputs": [],
   "source": [
    "movie_names = list(ratings.columns)\n",
    "#movie_preds.argmax()"
   ]
  },
  {
   "cell_type": "code",
   "execution_count": null,
   "metadata": {},
   "outputs": [],
   "source": [
    "movie_names[2075]"
   ]
  },
  {
   "cell_type": "code",
   "execution_count": null,
   "metadata": {},
   "outputs": [],
   "source": [
    "s = pd.Series(movie_preds[0], index=movies)\n",
    "s.sort_values(ascending=False)"
   ]
  },
  {
   "cell_type": "code",
   "execution_count": null,
   "metadata": {},
   "outputs": [],
   "source": [
    "# get names from dictionary in simple and direct way?"
   ]
  },
  {
   "cell_type": "code",
   "execution_count": null,
   "metadata": {},
   "outputs": [],
   "source": [
    "# create dic with movieIds and movie names: \n",
    "MOVIE_NAMES = dict(zip(movies['movieid'], movies['title']))"
   ]
  },
  {
   "cell_type": "code",
   "execution_count": null,
   "metadata": {},
   "outputs": [],
   "source": [
    "df_temp = pd.DataFrame(MOVIE_NAMES.items())"
   ]
  },
  {
   "cell_type": "code",
   "execution_count": null,
   "metadata": {},
   "outputs": [],
   "source": [
    "df_temp"
   ]
  },
  {
   "cell_type": "code",
   "execution_count": null,
   "metadata": {},
   "outputs": [],
   "source": [
    "#cd ~/flask-recommender/"
   ]
  },
  {
   "cell_type": "code",
   "execution_count": null,
   "metadata": {},
   "outputs": [],
   "source": [
    "#if 'NMF.joblib' in os.listdir('./'):\n",
    "   # print('yes')\n",
    "    #MODEL_fitted = load('./gettingstarted/NMF.joblib')"
   ]
  },
  {
   "cell_type": "code",
   "execution_count": null,
   "metadata": {},
   "outputs": [],
   "source": [
    "#os.listdir('./')"
   ]
  },
  {
   "cell_type": "markdown",
   "metadata": {},
   "source": [
    "### process input user dict to array:"
   ]
  },
  {
   "cell_type": "code",
   "execution_count": 23,
   "metadata": {},
   "outputs": [],
   "source": [
    "user_dict = {'movie1': 'Jurassic Park', 'rating1': '1', 'movie2': 'Up', 'rating2': '5', 'movie3': 'I, Robot', 'rating3': '3'}"
   ]
  },
  {
   "cell_type": "code",
   "execution_count": 24,
   "metadata": {},
   "outputs": [],
   "source": [
    "#user_dict.get('rating1')"
   ]
  },
  {
   "cell_type": "code",
   "execution_count": 26,
   "metadata": {},
   "outputs": [],
   "source": [
    "def format_dict(user_dict):\n",
    "\n",
    "    user_dict_new = {user_dict.get('movie1'): user_dict.get('rating1'), user_dict.get('movie2'): user_dict.get('rating2'),user_dict.get('movie3'): user_dict.get('rating3')}\n",
    "    return user_dict_new"
   ]
  },
  {
   "cell_type": "code",
   "execution_count": 27,
   "metadata": {},
   "outputs": [],
   "source": [
    "user_dict_new = format_dict(user_dict)"
   ]
  },
  {
   "cell_type": "code",
   "execution_count": 28,
   "metadata": {},
   "outputs": [],
   "source": [
    "#user_dict = {'Finding Nemo' : '4', \"casablanca\" : '1', \"I, Robot\" : '3'}"
   ]
  },
  {
   "cell_type": "code",
   "execution_count": 29,
   "metadata": {},
   "outputs": [],
   "source": [
    "# create dic with movieIds and movie names: \n",
    "MOVIE_NAMES = dict(zip(movies['movieid'], movies['title']))"
   ]
  },
  {
   "cell_type": "code",
   "execution_count": 31,
   "metadata": {},
   "outputs": [
    {
     "name": "stdout",
     "output_type": "stream",
     "text": [
      "Jurassic Park\n",
      "Up\n",
      "I, Robot\n"
     ]
    }
   ],
   "source": [
    "for movie in user_dict_new: \n",
    "    print(movie)\n"
   ]
  },
  {
   "cell_type": "code",
   "execution_count": 32,
   "metadata": {},
   "outputs": [],
   "source": [
    "def user_movie_index(user_dict):\n",
    "    \"\"\"compares movie titles in user input dict to titles in movie names dict with fuzzybuzzy. If sort ration > 70 original\n",
    "       movie title and movie Id are appended to list user_movie_index. If doubles occur, error is thrown.\n",
    "        returns list with tuples of movieId and movie title\"\"\"\n",
    "    \n",
    "    user_movie_index = []\n",
    "\n",
    "    for movie in user_dict: \n",
    "        movie = str(movie).lower()\n",
    "        print(' movies in user_dict: ' + movie)\n",
    "        for index, moviename in MOVIE_NAMES.items(): \n",
    "            if fuzz.token_sort_ratio(movie, moviename) > 70:\n",
    "                print('over 70: ' + moviename)\n",
    "                user_movie_index.append([index, moviename])\n",
    "                print('appended: ' + str(user_movie_index))\n",
    "            \n",
    "    if len(user_movie_index) != len(user_dict):\n",
    "        print(\"sorry, this doesn't work for now, please be more precise about the year or chose another movie: \" + str(dict(user_movie_index).values()))\n",
    "   \n",
    "        #elif fuzz.token_sort_ratio(movie, moviename) < 70:\n",
    "            #print('not appended: ' + movie)\n",
    "            #break\n",
    "            #print(user_movie_index)\n",
    "    return user_movie_index"
   ]
  },
  {
   "cell_type": "code",
   "execution_count": 33,
   "metadata": {},
   "outputs": [
    {
     "name": "stdout",
     "output_type": "stream",
     "text": [
      " movies in user_dict: jurassic park\n",
      "over 70: Jurassic Park (1993)\n",
      "appended: [[480, 'Jurassic Park (1993)']]\n",
      "over 70: Jurassic Park III (2001)\n",
      "appended: [[480, 'Jurassic Park (1993)'], [4638, 'Jurassic Park III (2001)']]\n",
      " movies in user_dict: up\n",
      " movies in user_dict: i, robot\n",
      "over 70: I, Robot (2004)\n",
      "appended: [[480, 'Jurassic Park (1993)'], [4638, 'Jurassic Park III (2001)'], [8644, 'I, Robot (2004)']]\n"
     ]
    }
   ],
   "source": [
    "user_movie_index = user_movie_index(user_dict_new)"
   ]
  },
  {
   "cell_type": "code",
   "execution_count": 37,
   "metadata": {},
   "outputs": [
    {
     "data": {
      "text/plain": [
       "[[480, 'Jurassic Park (1993)'],\n",
       " [4638, 'Jurassic Park III (2001)'],\n",
       " [8644, 'I, Robot (2004)']]"
      ]
     },
     "execution_count": 37,
     "metadata": {},
     "output_type": "execute_result"
    }
   ],
   "source": [
    "user_movie_index"
   ]
  },
  {
   "cell_type": "code",
   "execution_count": 38,
   "metadata": {},
   "outputs": [],
   "source": [
    "#user_dict"
   ]
  },
  {
   "cell_type": "code",
   "execution_count": 41,
   "metadata": {},
   "outputs": [],
   "source": [
    "def to_array(user_movie_index, user_dict):\n",
    "    \"\"\"input user dict with moive names and ratings. Creates df out of it, formats it, joins with columns of ratings df\n",
    "       and keeps only new_user row. To array, returns array in shape (1, 9724,)\"\"\"\n",
    "    # to df:\n",
    "    user_df = pd.DataFrame(user_movie_index)\n",
    "    # add ratings from user_dict (input) to column\n",
    "    user_df['rating'] = user_dict.values()\n",
    "    # drop movie titles\n",
    "    user_df.drop([1], axis=1, inplace=True)\n",
    "    # rename Movie ID column for better overview\n",
    "    user_df.rename(columns = {0:'movieId'}, inplace=True)\n",
    "    # to right format:\n",
    "    user_ratings = user_df.set_index(['movieId']).transpose()\n",
    "    # join with ratings df and keep only 1st row\n",
    "    user_ratings = pd.concat([user_ratings, ratings], axis=0, join='outer').iloc[0]\n",
    "    # get rid of Nan's:\n",
    "    user_ratings = user_ratings.fillna(ratings.mean().round(2))\n",
    "    # to array: \n",
    "    user_array = user_ratings.to_numpy()\n",
    "    # reshape: \n",
    "    user_array = user_array.reshape(1, 9724)\n",
    "    \n",
    "    \n",
    "    \n",
    "    return user_array"
   ]
  },
  {
   "cell_type": "code",
   "execution_count": 42,
   "metadata": {},
   "outputs": [],
   "source": [
    "user_array = to_array(user_movie_index, user_dict_new)"
   ]
  },
  {
   "cell_type": "code",
   "execution_count": 43,
   "metadata": {},
   "outputs": [
    {
     "data": {
      "text/plain": [
       "array([[3.92, 3.43, 3.26, ..., 3.5, 3.5, 4.0]], dtype=object)"
      ]
     },
     "execution_count": 43,
     "metadata": {},
     "output_type": "execute_result"
    }
   ],
   "source": [
    "user_array"
   ]
  },
  {
   "cell_type": "code",
   "execution_count": 44,
   "metadata": {},
   "outputs": [],
   "source": [
    "# get prediciton: \n",
    "# load model: \n",
    "trained_NMF = load('/Users/krystanafoh/flask-recommender/NMF.joblib')\n",
    "\n",
    "#list for movie names. \n",
    "movie_names = list(zip(movies['movieid'], movies['title']))\n",
    "\n",
    "def get_prediction(user_array, trained_model):\n",
    "    \"\"\"take in user array, make prediction, show best prediction movie title\"\"\"\n",
    "    profile = trained_model.transform(user_array)\n",
    "    Q = trained_model.components_ \n",
    "    movie_preds = np.dot(profile, Q)\n",
    "    best_rating = movie_preds.argmax()\n",
    "    movie = movie_names[best_rating]\n",
    "    print(movie[1])\n",
    "    \n",
    "    return movie[1]\n",
    "    "
   ]
  },
  {
   "cell_type": "code",
   "execution_count": 45,
   "metadata": {},
   "outputs": [
    {
     "name": "stdout",
     "output_type": "stream",
     "text": [
      "Night Porter, The (Portiere di notte, Il) (1974)\n"
     ]
    }
   ],
   "source": [
    "recommendation = get_prediction(user_array, trained_NMF)"
   ]
  },
  {
   "cell_type": "code",
   "execution_count": null,
   "metadata": {},
   "outputs": [],
   "source": []
  },
  {
   "cell_type": "code",
   "execution_count": null,
   "metadata": {},
   "outputs": [],
   "source": []
  },
  {
   "cell_type": "code",
   "execution_count": null,
   "metadata": {},
   "outputs": [],
   "source": []
  },
  {
   "cell_type": "markdown",
   "metadata": {},
   "source": [
    "### 2. cosinus similarity (3. weighted rating function)"
   ]
  },
  {
   "cell_type": "code",
   "execution_count": null,
   "metadata": {},
   "outputs": [],
   "source": []
  },
  {
   "cell_type": "code",
   "execution_count": null,
   "metadata": {},
   "outputs": [],
   "source": []
  },
  {
   "cell_type": "markdown",
   "metadata": {},
   "source": [
    "use weighted rating/cosinus sim instead of NMF\n",
    "weighted rating: m -> do we want to prefer/rate blockbusters(movies rated by a lot of people)\n",
    "but recommend movies only intresting for a niche of people - maybe bad recommendations\n"
   ]
  },
  {
   "cell_type": "markdown",
   "metadata": {},
   "source": [
    "similarity: user based filtering\n",
    "loop over all users except wanted, compare user ratings to wanted user by similarity\n",
    "\n",
    "similarity measures f.ex euklidian distance - does not work that great in higher dimensional space\n",
    "\n",
    "--> cosine similarity (entspr. angle between two vectors) ||X|| -> norm of a vector"
   ]
  }
 ],
 "metadata": {
  "kernelspec": {
   "display_name": "Python 3",
   "language": "python",
   "name": "python3"
  },
  "language_info": {
   "codemirror_mode": {
    "name": "ipython",
    "version": 3
   },
   "file_extension": ".py",
   "mimetype": "text/x-python",
   "name": "python",
   "nbconvert_exporter": "python",
   "pygments_lexer": "ipython3",
   "version": "3.8.5"
  }
 },
 "nbformat": 4,
 "nbformat_minor": 4
}
